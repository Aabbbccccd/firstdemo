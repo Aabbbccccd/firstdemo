{
  "cells": [
    {
      "cell_type": "markdown",
      "metadata": {
        "id": "view-in-github",
        "colab_type": "text"
      },
      "source": [
        "<a href=\"https://colab.research.google.com/github/Aabbbccccd/firstdemo/blob/main/IF_Program.ipynb\" target=\"_parent\"><img src=\"https://colab.research.google.com/assets/colab-badge.svg\" alt=\"Open In Colab\"/></a>"
      ]
    },
    {
      "cell_type": "code",
      "execution_count": 1,
      "id": "disciplinary-beginning",
      "metadata": {
        "colab": {
          "base_uri": "https://localhost:8080/"
        },
        "id": "disciplinary-beginning",
        "outputId": "4cbd5995-f79e-414f-9e7c-141e6b781418"
      },
      "outputs": [
        {
          "output_type": "stream",
          "name": "stdout",
          "text": [
            "hel\"lo\n",
            "139773488626480\n"
          ]
        }
      ],
      "source": [
        "name='hel\"lo' \n",
        "print(name)\n",
        "print(id(name))"
      ]
    },
    {
      "cell_type": "code",
      "execution_count": 2,
      "id": "sweet-sleeping",
      "metadata": {
        "colab": {
          "base_uri": "https://localhost:8080/"
        },
        "id": "sweet-sleeping",
        "outputId": "2a7c829d-fef3-4141-ad47-d4090f71d57e"
      },
      "outputs": [
        {
          "output_type": "stream",
          "name": "stdout",
          "text": [
            "hel\"lo\n"
          ]
        }
      ],
      "source": [
        "name='hel\"lo' \n",
        "print(name)"
      ]
    },
    {
      "cell_type": "code",
      "execution_count": 3,
      "id": "affected-relief",
      "metadata": {
        "colab": {
          "base_uri": "https://localhost:8080/"
        },
        "id": "affected-relief",
        "outputId": "5c86ad24-e807-4c85-a3c8-5f45c8b23154"
      },
      "outputs": [
        {
          "output_type": "stream",
          "name": "stdout",
          "text": [
            "hel'lo\n"
          ]
        }
      ],
      "source": [
        "name=\"hel'lo\"\n",
        "print(name)"
      ]
    },
    {
      "cell_type": "code",
      "execution_count": 4,
      "id": "rolled-atlas",
      "metadata": {
        "colab": {
          "base_uri": "https://localhost:8080/"
        },
        "id": "rolled-atlas",
        "outputId": "9094f37e-b832-4fb6-fe5d-66bf49cb252d"
      },
      "outputs": [
        {
          "output_type": "stream",
          "name": "stdout",
          "text": [
            "9\n"
          ]
        }
      ],
      "source": [
        "print(6+3)"
      ]
    },
    {
      "cell_type": "code",
      "execution_count": 5,
      "id": "primary-crest",
      "metadata": {
        "colab": {
          "base_uri": "https://localhost:8080/"
        },
        "id": "primary-crest",
        "outputId": "8fcfb74d-e31e-43c2-99de-28b8417985df"
      },
      "outputs": [
        {
          "output_type": "stream",
          "name": "stdout",
          "text": [
            "9' + * 'howru\n"
          ]
        }
      ],
      "source": [
        "print(\"9' + * 'howru\")"
      ]
    },
    {
      "cell_type": "code",
      "execution_count": 6,
      "id": "interpreted-friendly",
      "metadata": {
        "colab": {
          "base_uri": "https://localhost:8080/"
        },
        "id": "interpreted-friendly",
        "outputId": "30cfe7cd-1d7c-4e8b-d159-a347b8fe853e"
      },
      "outputs": [
        {
          "output_type": "stream",
          "name": "stdout",
          "text": [
            " +=howru +=howru +=howru +=howru +=howru +=howru +=howru +=howru +=howru\n"
          ]
        }
      ],
      "source": [
        "print(9 *  ' +=howru')"
      ]
    },
    {
      "cell_type": "code",
      "execution_count": 7,
      "id": "early-consideration",
      "metadata": {
        "colab": {
          "base_uri": "https://localhost:8080/"
        },
        "id": "early-consideration",
        "outputId": "290bf4eb-f8e3-4d06-f70f-1e0d95e25013"
      },
      "outputs": [
        {
          "output_type": "stream",
          "name": "stdout",
          "text": [
            "--------------------------------------------------------------------------------\n"
          ]
        }
      ],
      "source": [
        "print('-' * 80)"
      ]
    },
    {
      "cell_type": "code",
      "execution_count": 8,
      "id": "american-private",
      "metadata": {
        "colab": {
          "base_uri": "https://localhost:8080/"
        },
        "id": "american-private",
        "outputId": "8428173e-035d-4c16-b497-ce64dab44563"
      },
      "outputs": [
        {
          "output_type": "execute_result",
          "data": {
            "text/plain": [
              "139773479117360"
            ]
          },
          "metadata": {},
          "execution_count": 8
        }
      ],
      "source": [
        "name='hello' \n",
        "name\n",
        "id(name)"
      ]
    },
    {
      "cell_type": "code",
      "execution_count": 9,
      "id": "korean-recycling",
      "metadata": {
        "colab": {
          "base_uri": "https://localhost:8080/"
        },
        "id": "korean-recycling",
        "outputId": "51c048c5-7368-41d3-de45-47d2522fa790"
      },
      "outputs": [
        {
          "output_type": "stream",
          "name": "stdout",
          "text": [
            "hellog\n",
            "139773403824048\n"
          ]
        }
      ],
      "source": [
        "name +='g'\n",
        "print(name)\n",
        "print(id(name))"
      ]
    },
    {
      "cell_type": "code",
      "execution_count": 10,
      "id": "intimate-patio",
      "metadata": {
        "colab": {
          "base_uri": "https://localhost:8080/"
        },
        "id": "intimate-patio",
        "outputId": "e00667ef-afee-4c7f-f84c-f7c48194108a"
      },
      "outputs": [
        {
          "output_type": "stream",
          "name": "stdout",
          "text": [
            "139773403900848\n"
          ]
        }
      ],
      "source": [
        "name='Computer'\n",
        "print(id(name))"
      ]
    },
    {
      "cell_type": "code",
      "execution_count": 11,
      "id": "expressed-eugene",
      "metadata": {
        "colab": {
          "base_uri": "https://localhost:8080/"
        },
        "id": "expressed-eugene",
        "outputId": "706c3a1a-510b-4a48-f5e9-29bc818abb35"
      },
      "outputs": [
        {
          "output_type": "stream",
          "name": "stdout",
          "text": [
            "111\n"
          ]
        }
      ],
      "source": [
        "A = '10'\n",
        "B = A +'1'\n",
        "C= int(A) + int(B)\n",
        "print(C)"
      ]
    },
    {
      "cell_type": "code",
      "execution_count": 12,
      "id": "green-evolution",
      "metadata": {
        "colab": {
          "base_uri": "https://localhost:8080/"
        },
        "id": "green-evolution",
        "outputId": "51d78b9a-8e77-4efb-9036-d26619415b3f"
      },
      "outputs": [
        {
          "output_type": "stream",
          "name": "stdout",
          "text": [
            "[1, 2, 'howru', 4, 5]\n"
          ]
        }
      ],
      "source": [
        "List=[1,2,'howru',4,5]\n",
        "print(List)"
      ]
    },
    {
      "cell_type": "code",
      "execution_count": 13,
      "id": "difficult-driving",
      "metadata": {
        "colab": {
          "base_uri": "https://localhost:8080/"
        },
        "id": "difficult-driving",
        "outputId": "6a84f7f3-cdf4-4a72-a07c-e072ca454dde"
      },
      "outputs": [
        {
          "output_type": "stream",
          "name": "stdout",
          "text": [
            "[20, 2, 'howru', 4, 5]\n"
          ]
        }
      ],
      "source": [
        "List[0]=20 \n",
        "print(List)"
      ]
    },
    {
      "cell_type": "code",
      "execution_count": 14,
      "id": "convertible-dancing",
      "metadata": {
        "colab": {
          "base_uri": "https://localhost:8080/"
        },
        "id": "convertible-dancing",
        "outputId": "ae654cb4-41d4-4f0d-e968-5eaa6ad40874"
      },
      "outputs": [
        {
          "output_type": "stream",
          "name": "stdout",
          "text": [
            "[20, 2, 'howru', 8, 5]\n"
          ]
        }
      ],
      "source": [
        "List[3]=8 \n",
        "print(List)"
      ]
    },
    {
      "cell_type": "code",
      "execution_count": 15,
      "id": "dangerous-seeking",
      "metadata": {
        "colab": {
          "base_uri": "https://localhost:8080/"
        },
        "id": "dangerous-seeking",
        "outputId": "df3b2213-49aa-402f-bca0-ef2e8e87dbe0"
      },
      "outputs": [
        {
          "output_type": "stream",
          "name": "stdout",
          "text": [
            "(1, 2, 'hi', [20, 2, 'howru', 8, 5])\n"
          ]
        }
      ],
      "source": [
        "tuple=(1,2,'hi',List)\n",
        "print(tuple)"
      ]
    },
    {
      "cell_type": "code",
      "execution_count": null,
      "id": "electrical-nigeria",
      "metadata": {
        "id": "electrical-nigeria",
        "outputId": "74712bfc-130d-40ce-f02f-a36db45ae72c"
      },
      "outputs": [
        {
          "name": "stdout",
          "output_type": "stream",
          "text": [
            "i\n"
          ]
        }
      ],
      "source": [
        "print(tuple[2][1])"
      ]
    },
    {
      "cell_type": "code",
      "execution_count": 16,
      "id": "integrated-honor",
      "metadata": {
        "colab": {
          "base_uri": "https://localhost:8080/"
        },
        "id": "integrated-honor",
        "outputId": "e3ad0af7-b5fe-4108-a835-5c92097bc1f4"
      },
      "outputs": [
        {
          "output_type": "stream",
          "name": "stdout",
          "text": [
            "r\n"
          ]
        }
      ],
      "source": [
        "print(tuple[3][2][3])"
      ]
    },
    {
      "cell_type": "code",
      "execution_count": 19,
      "id": "internal-ethics",
      "metadata": {
        "colab": {
          "base_uri": "https://localhost:8080/"
        },
        "id": "internal-ethics",
        "outputId": "c8f2cea1-2370-44a1-8106-0d1950c92679"
      },
      "outputs": [
        {
          "output_type": "stream",
          "name": "stdout",
          "text": [
            "(1, 2, 'hi', [20, 2, 'howru', 8, 5])\n"
          ]
        }
      ],
      "source": [
        "\n",
        "print(tuple)"
      ]
    },
    {
      "cell_type": "code",
      "execution_count": null,
      "id": "prescription-paper",
      "metadata": {
        "id": "prescription-paper"
      },
      "outputs": [],
      "source": [
        ""
      ]
    },
    {
      "cell_type": "code",
      "execution_count": 20,
      "id": "olympic-lesson",
      "metadata": {
        "id": "olympic-lesson"
      },
      "outputs": [],
      "source": [
        "# Read a dataset with missing values\n",
        "import pandas as pd\n",
        "flights = pd.read_csv(\"https://raw.githubusercontent.com/PacktPublishing/Pandas-Cookbook/master/data/flights.csv\")"
      ]
    },
    {
      "cell_type": "code",
      "execution_count": 21,
      "id": "documentary-sterling",
      "metadata": {
        "colab": {
          "base_uri": "https://localhost:8080/",
          "height": 206
        },
        "id": "documentary-sterling",
        "outputId": "fe08367e-afe5-49c3-a8ae-1de8b9b7363b"
      },
      "outputs": [
        {
          "output_type": "execute_result",
          "data": {
            "text/html": [
              "\n",
              "  <div id=\"df-df4afac3-edbe-4979-8f09-8b873671c63e\">\n",
              "    <div class=\"colab-df-container\">\n",
              "      <div>\n",
              "<style scoped>\n",
              "    .dataframe tbody tr th:only-of-type {\n",
              "        vertical-align: middle;\n",
              "    }\n",
              "\n",
              "    .dataframe tbody tr th {\n",
              "        vertical-align: top;\n",
              "    }\n",
              "\n",
              "    .dataframe thead th {\n",
              "        text-align: right;\n",
              "    }\n",
              "</style>\n",
              "<table border=\"1\" class=\"dataframe\">\n",
              "  <thead>\n",
              "    <tr style=\"text-align: right;\">\n",
              "      <th></th>\n",
              "      <th>MONTH</th>\n",
              "      <th>DAY</th>\n",
              "      <th>WEEKDAY</th>\n",
              "      <th>AIRLINE</th>\n",
              "      <th>ORG_AIR</th>\n",
              "      <th>DEST_AIR</th>\n",
              "      <th>SCHED_DEP</th>\n",
              "      <th>DEP_DELAY</th>\n",
              "      <th>AIR_TIME</th>\n",
              "      <th>DIST</th>\n",
              "      <th>SCHED_ARR</th>\n",
              "      <th>ARR_DELAY</th>\n",
              "      <th>DIVERTED</th>\n",
              "      <th>CANCELLED</th>\n",
              "    </tr>\n",
              "  </thead>\n",
              "  <tbody>\n",
              "    <tr>\n",
              "      <th>24</th>\n",
              "      <td>1</td>\n",
              "      <td>1</td>\n",
              "      <td>4</td>\n",
              "      <td>MQ</td>\n",
              "      <td>DFW</td>\n",
              "      <td>BTR</td>\n",
              "      <td>730</td>\n",
              "      <td>NaN</td>\n",
              "      <td>NaN</td>\n",
              "      <td>383</td>\n",
              "      <td>853</td>\n",
              "      <td>NaN</td>\n",
              "      <td>0</td>\n",
              "      <td>1</td>\n",
              "    </tr>\n",
              "    <tr>\n",
              "      <th>51</th>\n",
              "      <td>1</td>\n",
              "      <td>1</td>\n",
              "      <td>4</td>\n",
              "      <td>OO</td>\n",
              "      <td>PHX</td>\n",
              "      <td>SLC</td>\n",
              "      <td>950</td>\n",
              "      <td>NaN</td>\n",
              "      <td>NaN</td>\n",
              "      <td>507</td>\n",
              "      <td>1138</td>\n",
              "      <td>NaN</td>\n",
              "      <td>0</td>\n",
              "      <td>1</td>\n",
              "    </tr>\n",
              "    <tr>\n",
              "      <th>73</th>\n",
              "      <td>1</td>\n",
              "      <td>1</td>\n",
              "      <td>4</td>\n",
              "      <td>AA</td>\n",
              "      <td>DFW</td>\n",
              "      <td>ICT</td>\n",
              "      <td>1000</td>\n",
              "      <td>NaN</td>\n",
              "      <td>NaN</td>\n",
              "      <td>328</td>\n",
              "      <td>1115</td>\n",
              "      <td>NaN</td>\n",
              "      <td>0</td>\n",
              "      <td>1</td>\n",
              "    </tr>\n",
              "    <tr>\n",
              "      <th>78</th>\n",
              "      <td>1</td>\n",
              "      <td>1</td>\n",
              "      <td>4</td>\n",
              "      <td>MQ</td>\n",
              "      <td>DFW</td>\n",
              "      <td>SJT</td>\n",
              "      <td>2155</td>\n",
              "      <td>NaN</td>\n",
              "      <td>NaN</td>\n",
              "      <td>229</td>\n",
              "      <td>2253</td>\n",
              "      <td>NaN</td>\n",
              "      <td>0</td>\n",
              "      <td>1</td>\n",
              "    </tr>\n",
              "    <tr>\n",
              "      <th>106</th>\n",
              "      <td>1</td>\n",
              "      <td>1</td>\n",
              "      <td>4</td>\n",
              "      <td>EV</td>\n",
              "      <td>DFW</td>\n",
              "      <td>LAW</td>\n",
              "      <td>1130</td>\n",
              "      <td>NaN</td>\n",
              "      <td>NaN</td>\n",
              "      <td>140</td>\n",
              "      <td>1215</td>\n",
              "      <td>NaN</td>\n",
              "      <td>0</td>\n",
              "      <td>1</td>\n",
              "    </tr>\n",
              "  </tbody>\n",
              "</table>\n",
              "</div>\n",
              "      <button class=\"colab-df-convert\" onclick=\"convertToInteractive('df-df4afac3-edbe-4979-8f09-8b873671c63e')\"\n",
              "              title=\"Convert this dataframe to an interactive table.\"\n",
              "              style=\"display:none;\">\n",
              "        \n",
              "  <svg xmlns=\"http://www.w3.org/2000/svg\" height=\"24px\"viewBox=\"0 0 24 24\"\n",
              "       width=\"24px\">\n",
              "    <path d=\"M0 0h24v24H0V0z\" fill=\"none\"/>\n",
              "    <path d=\"M18.56 5.44l.94 2.06.94-2.06 2.06-.94-2.06-.94-.94-2.06-.94 2.06-2.06.94zm-11 1L8.5 8.5l.94-2.06 2.06-.94-2.06-.94L8.5 2.5l-.94 2.06-2.06.94zm10 10l.94 2.06.94-2.06 2.06-.94-2.06-.94-.94-2.06-.94 2.06-2.06.94z\"/><path d=\"M17.41 7.96l-1.37-1.37c-.4-.4-.92-.59-1.43-.59-.52 0-1.04.2-1.43.59L10.3 9.45l-7.72 7.72c-.78.78-.78 2.05 0 2.83L4 21.41c.39.39.9.59 1.41.59.51 0 1.02-.2 1.41-.59l7.78-7.78 2.81-2.81c.8-.78.8-2.07 0-2.86zM5.41 20L4 18.59l7.72-7.72 1.47 1.35L5.41 20z\"/>\n",
              "  </svg>\n",
              "      </button>\n",
              "      \n",
              "  <style>\n",
              "    .colab-df-container {\n",
              "      display:flex;\n",
              "      flex-wrap:wrap;\n",
              "      gap: 12px;\n",
              "    }\n",
              "\n",
              "    .colab-df-convert {\n",
              "      background-color: #E8F0FE;\n",
              "      border: none;\n",
              "      border-radius: 50%;\n",
              "      cursor: pointer;\n",
              "      display: none;\n",
              "      fill: #1967D2;\n",
              "      height: 32px;\n",
              "      padding: 0 0 0 0;\n",
              "      width: 32px;\n",
              "    }\n",
              "\n",
              "    .colab-df-convert:hover {\n",
              "      background-color: #E2EBFA;\n",
              "      box-shadow: 0px 1px 2px rgba(60, 64, 67, 0.3), 0px 1px 3px 1px rgba(60, 64, 67, 0.15);\n",
              "      fill: #174EA6;\n",
              "    }\n",
              "\n",
              "    [theme=dark] .colab-df-convert {\n",
              "      background-color: #3B4455;\n",
              "      fill: #D2E3FC;\n",
              "    }\n",
              "\n",
              "    [theme=dark] .colab-df-convert:hover {\n",
              "      background-color: #434B5C;\n",
              "      box-shadow: 0px 1px 3px 1px rgba(0, 0, 0, 0.15);\n",
              "      filter: drop-shadow(0px 1px 2px rgba(0, 0, 0, 0.3));\n",
              "      fill: #FFFFFF;\n",
              "    }\n",
              "  </style>\n",
              "\n",
              "      <script>\n",
              "        const buttonEl =\n",
              "          document.querySelector('#df-df4afac3-edbe-4979-8f09-8b873671c63e button.colab-df-convert');\n",
              "        buttonEl.style.display =\n",
              "          google.colab.kernel.accessAllowed ? 'block' : 'none';\n",
              "\n",
              "        async function convertToInteractive(key) {\n",
              "          const element = document.querySelector('#df-df4afac3-edbe-4979-8f09-8b873671c63e');\n",
              "          const dataTable =\n",
              "            await google.colab.kernel.invokeFunction('convertToInteractive',\n",
              "                                                     [key], {});\n",
              "          if (!dataTable) return;\n",
              "\n",
              "          const docLinkHtml = 'Like what you see? Visit the ' +\n",
              "            '<a target=\"_blank\" href=https://colab.research.google.com/notebooks/data_table.ipynb>data table notebook</a>'\n",
              "            + ' to learn more about interactive tables.';\n",
              "          element.innerHTML = '';\n",
              "          dataTable['output_type'] = 'display_data';\n",
              "          await google.colab.output.renderOutput(dataTable, element);\n",
              "          const docLink = document.createElement('div');\n",
              "          docLink.innerHTML = docLinkHtml;\n",
              "          element.appendChild(docLink);\n",
              "        }\n",
              "      </script>\n",
              "    </div>\n",
              "  </div>\n",
              "  "
            ],
            "text/plain": [
              "     MONTH  DAY  WEEKDAY AIRLINE  ... SCHED_ARR ARR_DELAY  DIVERTED  CANCELLED\n",
              "24       1    1        4      MQ  ...       853       NaN         0          1\n",
              "51       1    1        4      OO  ...      1138       NaN         0          1\n",
              "73       1    1        4      AA  ...      1115       NaN         0          1\n",
              "78       1    1        4      MQ  ...      2253       NaN         0          1\n",
              "106      1    1        4      EV  ...      1215       NaN         0          1\n",
              "\n",
              "[5 rows x 14 columns]"
            ]
          },
          "metadata": {},
          "execution_count": 21
        }
      ],
      "source": [
        "# Select the rows that have at least one missing value\n",
        "flights[flights.isnull().any(axis=1)].head()"
      ]
    },
    {
      "cell_type": "code",
      "execution_count": 22,
      "id": "modern-radical",
      "metadata": {
        "colab": {
          "base_uri": "https://localhost:8080/"
        },
        "id": "modern-radical",
        "outputId": "e4e7d6f0-9bb9-435a-cdb5-0eddaa1b8540"
      },
      "outputs": [
        {
          "output_type": "execute_result",
          "data": {
            "text/plain": [
              "(58492, 14)"
            ]
          },
          "metadata": {},
          "execution_count": 22
        }
      ],
      "source": [
        "flights.shape"
      ]
    },
    {
      "cell_type": "code",
      "execution_count": 23,
      "id": "dirty-saturday",
      "metadata": {
        "colab": {
          "base_uri": "https://localhost:8080/",
          "height": 206
        },
        "id": "dirty-saturday",
        "outputId": "867ecf84-f043-45c0-962f-0e0a2e78b39a"
      },
      "outputs": [
        {
          "output_type": "execute_result",
          "data": {
            "text/html": [
              "\n",
              "  <div id=\"df-42d80d6a-5df1-4c88-8be5-f50be809c858\">\n",
              "    <div class=\"colab-df-container\">\n",
              "      <div>\n",
              "<style scoped>\n",
              "    .dataframe tbody tr th:only-of-type {\n",
              "        vertical-align: middle;\n",
              "    }\n",
              "\n",
              "    .dataframe tbody tr th {\n",
              "        vertical-align: top;\n",
              "    }\n",
              "\n",
              "    .dataframe thead th {\n",
              "        text-align: right;\n",
              "    }\n",
              "</style>\n",
              "<table border=\"1\" class=\"dataframe\">\n",
              "  <thead>\n",
              "    <tr style=\"text-align: right;\">\n",
              "      <th></th>\n",
              "      <th>MONTH</th>\n",
              "      <th>DAY</th>\n",
              "      <th>WEEKDAY</th>\n",
              "      <th>AIRLINE</th>\n",
              "      <th>ORG_AIR</th>\n",
              "      <th>DEST_AIR</th>\n",
              "      <th>SCHED_DEP</th>\n",
              "      <th>DEP_DELAY</th>\n",
              "      <th>AIR_TIME</th>\n",
              "      <th>DIST</th>\n",
              "      <th>SCHED_ARR</th>\n",
              "      <th>ARR_DELAY</th>\n",
              "      <th>DIVERTED</th>\n",
              "      <th>CANCELLED</th>\n",
              "    </tr>\n",
              "  </thead>\n",
              "  <tbody>\n",
              "    <tr>\n",
              "      <th>58487</th>\n",
              "      <td>12</td>\n",
              "      <td>31</td>\n",
              "      <td>4</td>\n",
              "      <td>AA</td>\n",
              "      <td>SFO</td>\n",
              "      <td>DFW</td>\n",
              "      <td>515</td>\n",
              "      <td>5.0</td>\n",
              "      <td>166.0</td>\n",
              "      <td>1464</td>\n",
              "      <td>1045</td>\n",
              "      <td>-19.0</td>\n",
              "      <td>0</td>\n",
              "      <td>0</td>\n",
              "    </tr>\n",
              "    <tr>\n",
              "      <th>58488</th>\n",
              "      <td>12</td>\n",
              "      <td>31</td>\n",
              "      <td>4</td>\n",
              "      <td>F9</td>\n",
              "      <td>LAS</td>\n",
              "      <td>SFO</td>\n",
              "      <td>1910</td>\n",
              "      <td>13.0</td>\n",
              "      <td>71.0</td>\n",
              "      <td>414</td>\n",
              "      <td>2050</td>\n",
              "      <td>4.0</td>\n",
              "      <td>0</td>\n",
              "      <td>0</td>\n",
              "    </tr>\n",
              "    <tr>\n",
              "      <th>58489</th>\n",
              "      <td>12</td>\n",
              "      <td>31</td>\n",
              "      <td>4</td>\n",
              "      <td>OO</td>\n",
              "      <td>SFO</td>\n",
              "      <td>SBA</td>\n",
              "      <td>1846</td>\n",
              "      <td>-6.0</td>\n",
              "      <td>46.0</td>\n",
              "      <td>262</td>\n",
              "      <td>1956</td>\n",
              "      <td>-5.0</td>\n",
              "      <td>0</td>\n",
              "      <td>0</td>\n",
              "    </tr>\n",
              "    <tr>\n",
              "      <th>58490</th>\n",
              "      <td>12</td>\n",
              "      <td>31</td>\n",
              "      <td>4</td>\n",
              "      <td>WN</td>\n",
              "      <td>MSP</td>\n",
              "      <td>ATL</td>\n",
              "      <td>525</td>\n",
              "      <td>39.0</td>\n",
              "      <td>124.0</td>\n",
              "      <td>907</td>\n",
              "      <td>855</td>\n",
              "      <td>34.0</td>\n",
              "      <td>0</td>\n",
              "      <td>0</td>\n",
              "    </tr>\n",
              "    <tr>\n",
              "      <th>58491</th>\n",
              "      <td>12</td>\n",
              "      <td>31</td>\n",
              "      <td>4</td>\n",
              "      <td>OO</td>\n",
              "      <td>SFO</td>\n",
              "      <td>BOI</td>\n",
              "      <td>859</td>\n",
              "      <td>5.0</td>\n",
              "      <td>73.0</td>\n",
              "      <td>522</td>\n",
              "      <td>1146</td>\n",
              "      <td>-1.0</td>\n",
              "      <td>0</td>\n",
              "      <td>0</td>\n",
              "    </tr>\n",
              "  </tbody>\n",
              "</table>\n",
              "</div>\n",
              "      <button class=\"colab-df-convert\" onclick=\"convertToInteractive('df-42d80d6a-5df1-4c88-8be5-f50be809c858')\"\n",
              "              title=\"Convert this dataframe to an interactive table.\"\n",
              "              style=\"display:none;\">\n",
              "        \n",
              "  <svg xmlns=\"http://www.w3.org/2000/svg\" height=\"24px\"viewBox=\"0 0 24 24\"\n",
              "       width=\"24px\">\n",
              "    <path d=\"M0 0h24v24H0V0z\" fill=\"none\"/>\n",
              "    <path d=\"M18.56 5.44l.94 2.06.94-2.06 2.06-.94-2.06-.94-.94-2.06-.94 2.06-2.06.94zm-11 1L8.5 8.5l.94-2.06 2.06-.94-2.06-.94L8.5 2.5l-.94 2.06-2.06.94zm10 10l.94 2.06.94-2.06 2.06-.94-2.06-.94-.94-2.06-.94 2.06-2.06.94z\"/><path d=\"M17.41 7.96l-1.37-1.37c-.4-.4-.92-.59-1.43-.59-.52 0-1.04.2-1.43.59L10.3 9.45l-7.72 7.72c-.78.78-.78 2.05 0 2.83L4 21.41c.39.39.9.59 1.41.59.51 0 1.02-.2 1.41-.59l7.78-7.78 2.81-2.81c.8-.78.8-2.07 0-2.86zM5.41 20L4 18.59l7.72-7.72 1.47 1.35L5.41 20z\"/>\n",
              "  </svg>\n",
              "      </button>\n",
              "      \n",
              "  <style>\n",
              "    .colab-df-container {\n",
              "      display:flex;\n",
              "      flex-wrap:wrap;\n",
              "      gap: 12px;\n",
              "    }\n",
              "\n",
              "    .colab-df-convert {\n",
              "      background-color: #E8F0FE;\n",
              "      border: none;\n",
              "      border-radius: 50%;\n",
              "      cursor: pointer;\n",
              "      display: none;\n",
              "      fill: #1967D2;\n",
              "      height: 32px;\n",
              "      padding: 0 0 0 0;\n",
              "      width: 32px;\n",
              "    }\n",
              "\n",
              "    .colab-df-convert:hover {\n",
              "      background-color: #E2EBFA;\n",
              "      box-shadow: 0px 1px 2px rgba(60, 64, 67, 0.3), 0px 1px 3px 1px rgba(60, 64, 67, 0.15);\n",
              "      fill: #174EA6;\n",
              "    }\n",
              "\n",
              "    [theme=dark] .colab-df-convert {\n",
              "      background-color: #3B4455;\n",
              "      fill: #D2E3FC;\n",
              "    }\n",
              "\n",
              "    [theme=dark] .colab-df-convert:hover {\n",
              "      background-color: #434B5C;\n",
              "      box-shadow: 0px 1px 3px 1px rgba(0, 0, 0, 0.15);\n",
              "      filter: drop-shadow(0px 1px 2px rgba(0, 0, 0, 0.3));\n",
              "      fill: #FFFFFF;\n",
              "    }\n",
              "  </style>\n",
              "\n",
              "      <script>\n",
              "        const buttonEl =\n",
              "          document.querySelector('#df-42d80d6a-5df1-4c88-8be5-f50be809c858 button.colab-df-convert');\n",
              "        buttonEl.style.display =\n",
              "          google.colab.kernel.accessAllowed ? 'block' : 'none';\n",
              "\n",
              "        async function convertToInteractive(key) {\n",
              "          const element = document.querySelector('#df-42d80d6a-5df1-4c88-8be5-f50be809c858');\n",
              "          const dataTable =\n",
              "            await google.colab.kernel.invokeFunction('convertToInteractive',\n",
              "                                                     [key], {});\n",
              "          if (!dataTable) return;\n",
              "\n",
              "          const docLinkHtml = 'Like what you see? Visit the ' +\n",
              "            '<a target=\"_blank\" href=https://colab.research.google.com/notebooks/data_table.ipynb>data table notebook</a>'\n",
              "            + ' to learn more about interactive tables.';\n",
              "          element.innerHTML = '';\n",
              "          dataTable['output_type'] = 'display_data';\n",
              "          await google.colab.output.renderOutput(dataTable, element);\n",
              "          const docLink = document.createElement('div');\n",
              "          docLink.innerHTML = docLinkHtml;\n",
              "          element.appendChild(docLink);\n",
              "        }\n",
              "      </script>\n",
              "    </div>\n",
              "  </div>\n",
              "  "
            ],
            "text/plain": [
              "       MONTH  DAY  WEEKDAY AIRLINE  ... SCHED_ARR ARR_DELAY  DIVERTED  CANCELLED\n",
              "58487     12   31        4      AA  ...      1045     -19.0         0          0\n",
              "58488     12   31        4      F9  ...      2050       4.0         0          0\n",
              "58489     12   31        4      OO  ...      1956      -5.0         0          0\n",
              "58490     12   31        4      WN  ...       855      34.0         0          0\n",
              "58491     12   31        4      OO  ...      1146      -1.0         0          0\n",
              "\n",
              "[5 rows x 14 columns]"
            ]
          },
          "metadata": {},
          "execution_count": 23
        }
      ],
      "source": [
        "flights.tail()"
      ]
    },
    {
      "cell_type": "code",
      "execution_count": null,
      "id": "champion-temple",
      "metadata": {
        "id": "champion-temple"
      },
      "outputs": [],
      "source": [
        "flights.dropna(how='all')"
      ]
    },
    {
      "cell_type": "code",
      "execution_count": null,
      "id": "impressive-dinner",
      "metadata": {
        "id": "impressive-dinner"
      },
      "outputs": [],
      "source": [
        "flights[['DEP_DELAY','ARR_DELAY']].agg(['min','mean','max'])"
      ]
    },
    {
      "cell_type": "code",
      "execution_count": null,
      "id": "subjective-nomination",
      "metadata": {
        "id": "subjective-nomination"
      },
      "outputs": [],
      "source": [
        "flights.describe()"
      ]
    },
    {
      "cell_type": "code",
      "execution_count": null,
      "id": "pregnant-scholarship",
      "metadata": {
        "id": "pregnant-scholarship"
      },
      "outputs": [],
      "source": [
        "import seaborn as sns\n",
        "sns.pairplot(flights)"
      ]
    },
    {
      "cell_type": "code",
      "execution_count": null,
      "id": "equipped-lyric",
      "metadata": {
        "id": "equipped-lyric"
      },
      "outputs": [],
      "source": [
        "d = {\"age\":43, (\"hello\",\"world\"):1, \"flag\": [\"red\",\"white\",\"blue\"]}"
      ]
    },
    {
      "cell_type": "code",
      "execution_count": null,
      "id": "comparable-session",
      "metadata": {
        "id": "comparable-session"
      },
      "outputs": [],
      "source": [
        "d['flag'][1][3]"
      ]
    },
    {
      "cell_type": "code",
      "execution_count": null,
      "id": "measured-piano",
      "metadata": {
        "id": "measured-piano"
      },
      "outputs": [],
      "source": [
        "fruit = 'Banana'\n",
        "fruit[0] = 'b'"
      ]
    },
    {
      "cell_type": "code",
      "execution_count": null,
      "id": "introductory-institute",
      "metadata": {
        "id": "introductory-institute"
      },
      "outputs": [],
      "source": [
        "x = fruit.lower()"
      ]
    },
    {
      "cell_type": "code",
      "execution_count": null,
      "id": "pressing-channels",
      "metadata": {
        "id": "pressing-channels"
      },
      "outputs": [],
      "source": [
        "id(fruit)"
      ]
    },
    {
      "cell_type": "code",
      "execution_count": null,
      "id": "minor-integral",
      "metadata": {
        "id": "minor-integral"
      },
      "outputs": [],
      "source": [
        "id(x)"
      ]
    },
    {
      "cell_type": "code",
      "execution_count": null,
      "id": "right-integration",
      "metadata": {
        "id": "right-integration"
      },
      "outputs": [],
      "source": [
        "n = 1\n",
        "num= int(input('Enter the Nunber'))\n",
        "while n<= num :\n",
        "    print(n)\n",
        "    n+=1\n"
      ]
    },
    {
      "cell_type": "code",
      "execution_count": null,
      "id": "super-parking",
      "metadata": {
        "id": "super-parking"
      },
      "outputs": [],
      "source": [
        "print('Before')\n",
        "for value in [9, 41, 12, 3, 74, 15] :\n",
        "    if value > 20: \n",
        "        print('Large number',value)\n",
        "print('After')\n"
      ]
    },
    {
      "cell_type": "code",
      "execution_count": null,
      "id": "biblical-thesis",
      "metadata": {
        "id": "biblical-thesis"
      },
      "outputs": [],
      "source": [
        "smallest = None\n",
        "for value in [9, 41, 12, 3, 74, 15] : \n",
        "     if smallest is None : \n",
        "         smallest = value   \n",
        "     elif value < smallest : \n",
        "         smallest = value   \n",
        "     print(smallest, value)\n",
        "print('After', smallest)\n"
      ]
    },
    {
      "cell_type": "code",
      "execution_count": null,
      "id": "smoking-sheffield",
      "metadata": {
        "id": "smoking-sheffield"
      },
      "outputs": [],
      "source": [
        "def average( prices):\n",
        "    total = 0 \n",
        "    for price in prices: \n",
        "        total = total + price \n",
        "    avg = total/len(prices)\n",
        "    return avg\n",
        "numbers = [1,2,3,4,5]\n",
        "my_average = average(numbers)\n",
        "print(my_average) "
      ]
    },
    {
      "cell_type": "code",
      "execution_count": null,
      "id": "declared-chess",
      "metadata": {
        "id": "declared-chess",
        "outputId": "332bbc69-acbd-46bf-ca12-925a0a18069a"
      },
      "outputs": [
        {
          "name": "stdout",
          "output_type": "stream",
          "text": [
            "25\n",
            "avg 50\n",
            "total 12.5\n"
          ]
        }
      ],
      "source": [
        "def average(numbers, lst):\n",
        "    total = 0\n",
        "    for num in numbers:\n",
        "        total = total + num\n",
        "    avg = total/len(lst)\n",
        "    return avg, total\n",
        "def TEST():\n",
        "    prices = [20, 30]\n",
        "    price = [200, 300, 400, 100]\n",
        "    total1, avg1 = average(prices,price)\n",
        "    print(order_goal)\n",
        "    print('avg',avg1)\n",
        "    print('total',total1)\n",
        "order_goal = 25\n",
        "TEST()"
      ]
    },
    {
      "cell_type": "code",
      "execution_count": null,
      "id": "diverse-jackson",
      "metadata": {
        "id": "diverse-jackson"
      },
      "outputs": [],
      "source": [
        "s = 'hi'\n",
        "print(s*3)"
      ]
    },
    {
      "cell_type": "code",
      "execution_count": null,
      "id": "similar-manor",
      "metadata": {
        "id": "similar-manor"
      },
      "outputs": [],
      "source": [
        "i =1 \n",
        "i+=1\n",
        "i"
      ]
    },
    {
      "cell_type": "code",
      "execution_count": null,
      "id": "similar-tuning",
      "metadata": {
        "id": "similar-tuning"
      },
      "outputs": [],
      "source": [
        "a = ['spam', 'eggs', 100, 1234, 2*2]\n",
        "a[-4:4]"
      ]
    },
    {
      "cell_type": "code",
      "execution_count": null,
      "id": "thrown-jimmy",
      "metadata": {
        "id": "thrown-jimmy"
      },
      "outputs": [],
      "source": [
        "a[2] = a[2] + 23\n",
        "a[0:2] = [1,12]\n",
        "a"
      ]
    },
    {
      "cell_type": "code",
      "execution_count": null,
      "id": "rental-consequence",
      "metadata": {
        "id": "rental-consequence"
      },
      "outputs": [],
      "source": [
        "a[0] = []\n",
        "len(a)\n",
        "a"
      ]
    },
    {
      "cell_type": "code",
      "execution_count": null,
      "id": "broken-particular",
      "metadata": {
        "id": "broken-particular"
      },
      "outputs": [],
      "source": [
        "print(d[\"flag\"][2][2])"
      ]
    },
    {
      "cell_type": "code",
      "execution_count": null,
      "id": "related-region",
      "metadata": {
        "id": "related-region"
      },
      "outputs": [],
      "source": [
        "print(d.get(\"flagssss\"))"
      ]
    },
    {
      "cell_type": "code",
      "execution_count": null,
      "id": "south-creation",
      "metadata": {
        "id": "south-creation"
      },
      "outputs": [],
      "source": [
        "print(d.values())"
      ]
    },
    {
      "cell_type": "code",
      "execution_count": null,
      "id": "manufactured-speed",
      "metadata": {
        "id": "manufactured-speed"
      },
      "outputs": [],
      "source": [
        "my_list = [1, 2, 3, 4] \n",
        "your_list = [4, 3, 2, 1] \n",
        "his_list = [1, 2, 3, 4]\n",
        "print(my_list == your_list) \n",
        "print(my_list == his_list)"
      ]
    },
    {
      "cell_type": "code",
      "execution_count": null,
      "id": "processed-liberty",
      "metadata": {
        "id": "processed-liberty"
      },
      "outputs": [],
      "source": [
        "my_dict = {1:1, 2:2, 3:3, 4:4} \n",
        "your_dict = {4:4, 3:3, 2:2, 1:1}\n",
        "print(my_dict == your_dict)"
      ]
    },
    {
      "cell_type": "code",
      "execution_count": null,
      "id": "vocal-method",
      "metadata": {
        "id": "vocal-method"
      },
      "outputs": [],
      "source": [
        "for num in [1,2,3,4,5]:\n",
        "    print(num**2)"
      ]
    },
    {
      "cell_type": "code",
      "execution_count": null,
      "id": "vocal-following",
      "metadata": {
        "id": "vocal-following"
      },
      "outputs": [],
      "source": [
        "for num in 'computer':\n",
        "    print(num)"
      ]
    },
    {
      "cell_type": "code",
      "execution_count": null,
      "id": "posted-johnston",
      "metadata": {
        "id": "posted-johnston"
      },
      "outputs": [],
      "source": [
        "for items in d:\n",
        "    print(items)\n",
        "    #print(key)"
      ]
    },
    {
      "cell_type": "code",
      "execution_count": null,
      "id": "owned-melissa",
      "metadata": {
        "id": "owned-melissa"
      },
      "outputs": [],
      "source": [
        "total = 0\n",
        "prices = [2.50, 3.50, 4.50]\n",
        "for price in prices:\n",
        "    print('Price is', price) \n",
        "    total = total + price\n",
        "print('total is', total)\n",
        "average = total/len(prices) \n",
        "print('avg is', average)"
      ]
    },
    {
      "cell_type": "code",
      "execution_count": null,
      "id": "younger-virgin",
      "metadata": {
        "id": "younger-virgin"
      },
      "outputs": [],
      "source": [
        "import random\n",
        "r1 = random.random() # Gives us a random number from [0.0, 1.0\n",
        "print(r1)\n",
        "r2 = random.choice([1,2,3,4,5]) # Gives us a random choice from a list\n",
        "print(r2)\n",
        "r3 = random.randint(1, 1000) # Gives us a random number in this range\n",
        "print(r3)\n"
      ]
    },
    {
      "cell_type": "code",
      "execution_count": null,
      "id": "unlike-breathing",
      "metadata": {
        "id": "unlike-breathing"
      },
      "outputs": [],
      "source": [
        "for keys,items in d.items():\n",
        "    print(keys)\n",
        "    print(items)    "
      ]
    },
    {
      "cell_type": "code",
      "execution_count": null,
      "id": "extended-anthropology",
      "metadata": {
        "id": "extended-anthropology"
      },
      "outputs": [],
      "source": [
        "a = 1"
      ]
    },
    {
      "cell_type": "code",
      "execution_count": null,
      "id": "noticed-incentive",
      "metadata": {
        "id": "noticed-incentive"
      },
      "outputs": [],
      "source": [
        "print(type(a))"
      ]
    },
    {
      "cell_type": "code",
      "execution_count": null,
      "id": "fixed-salem",
      "metadata": {
        "id": "fixed-salem"
      },
      "outputs": [],
      "source": [
        "print(a)"
      ]
    },
    {
      "cell_type": "code",
      "execution_count": null,
      "id": "frequent-sunday",
      "metadata": {
        "id": "frequent-sunday"
      },
      "outputs": [],
      "source": [
        "print(id(a))"
      ]
    },
    {
      "cell_type": "code",
      "execution_count": null,
      "id": "molecular-excellence",
      "metadata": {
        "id": "molecular-excellence"
      },
      "outputs": [],
      "source": [
        "a = str (a) + ' hello'"
      ]
    },
    {
      "cell_type": "code",
      "execution_count": null,
      "id": "tough-script",
      "metadata": {
        "id": "tough-script"
      },
      "outputs": [],
      "source": [
        "print(id(a))"
      ]
    },
    {
      "cell_type": "code",
      "execution_count": null,
      "id": "looking-bunch",
      "metadata": {
        "id": "looking-bunch"
      },
      "outputs": [],
      "source": [
        ""
      ]
    },
    {
      "cell_type": "code",
      "execution_count": null,
      "id": "commercial-flower",
      "metadata": {
        "id": "commercial-flower"
      },
      "outputs": [],
      "source": [
        "# Python automatically converts\n",
        "# a to int\n",
        "a = 7\n",
        "print(type(a)) \n",
        "# Python automatically converts\n",
        "# b to float\n",
        "b = 3.0\n",
        "print(type(b)) \n",
        "# Python automatically converts\n",
        "# c to float as it is a float addition\n",
        "c = a + b\n",
        "print(c)\n",
        "print(type(c)) \n",
        "# Python automatically converts\n",
        "# d to float as it is a float multiplication\n",
        "d = a * b\n",
        "print(d)\n",
        "print(type(d))"
      ]
    },
    {
      "cell_type": "code",
      "execution_count": null,
      "id": "modern-archive",
      "metadata": {
        "id": "modern-archive"
      },
      "outputs": [],
      "source": [
        ""
      ]
    },
    {
      "cell_type": "code",
      "execution_count": null,
      "id": "systematic-moscow",
      "metadata": {
        "id": "systematic-moscow"
      },
      "outputs": [],
      "source": [
        "import numpy as np\n",
        "B = np.random.rand(1000000)\n",
        "%timeit sum(B)\n",
        "%timeit np.sum(B)\n"
      ]
    },
    {
      "cell_type": "code",
      "execution_count": null,
      "id": "intimate-middle",
      "metadata": {
        "id": "intimate-middle"
      },
      "outputs": [],
      "source": [
        "\n",
        "%%timeit\n",
        "S=0\n",
        "for x in B:\n",
        "    S = S + x\n",
        "print(S)"
      ]
    },
    {
      "cell_type": "code",
      "execution_count": null,
      "id": "desirable-silence",
      "metadata": {
        "id": "desirable-silence"
      },
      "outputs": [],
      "source": [
        "price = input(\"Enter the price: \")\n",
        "price = float(price) \n",
        "print('Price =', price)\n",
        "print('Not a number!')"
      ]
    },
    {
      "cell_type": "code",
      "execution_count": null,
      "id": "compressed-pacific",
      "metadata": {
        "id": "compressed-pacific"
      },
      "outputs": [],
      "source": [
        "price = input(\"Enter the price: \")\n",
        "try:\n",
        "    price = float(price) \n",
        "    print('Price =', price)\n",
        "except ValueError:\n",
        "    print('Not a number!')"
      ]
    },
    {
      "cell_type": "code",
      "execution_count": null,
      "id": "obvious-employee",
      "metadata": {
        "id": "obvious-employee"
      },
      "outputs": [],
      "source": [
        "price = input(\"Enter the price: \")\n",
        "print(type(price))\n",
        "price = int(price) \n",
        "print('Price =', price)\n",
        "print(type(price))"
      ]
    },
    {
      "cell_type": "code",
      "execution_count": null,
      "id": "abandoned-makeup",
      "metadata": {
        "id": "abandoned-makeup"
      },
      "outputs": [],
      "source": [
        "c = 'hi' + str(10)\n",
        "print(c)"
      ]
    },
    {
      "cell_type": "code",
      "execution_count": null,
      "id": "alternate-latter",
      "metadata": {
        "id": "alternate-latter"
      },
      "outputs": [],
      "source": [
        "type(c)"
      ]
    },
    {
      "cell_type": "code",
      "execution_count": null,
      "id": "featured-student",
      "metadata": {
        "id": "featured-student"
      },
      "outputs": [],
      "source": [
        "len(c)"
      ]
    },
    {
      "cell_type": "code",
      "execution_count": null,
      "id": "brave-monroe",
      "metadata": {
        "id": "brave-monroe"
      },
      "outputs": [],
      "source": [
        "import numpy as np\n",
        "B = np.random.rand(1000000)\n",
        "%timeit sum(B)"
      ]
    },
    {
      "cell_type": "code",
      "execution_count": null,
      "id": "quick-nickel",
      "metadata": {
        "id": "quick-nickel"
      },
      "outputs": [],
      "source": [
        "%timeit np.sum(B)"
      ]
    },
    {
      "cell_type": "code",
      "execution_count": null,
      "id": "recent-large",
      "metadata": {
        "id": "recent-large"
      },
      "outputs": [],
      "source": [
        "%%timeit\n",
        "S=0\n",
        "for x in B:\n",
        "    S+=x"
      ]
    },
    {
      "cell_type": "code",
      "execution_count": null,
      "id": "intimate-vehicle",
      "metadata": {
        "id": "intimate-vehicle"
      },
      "outputs": [],
      "source": [
        "a = 33 \n",
        "b = 200 \n",
        "if b > a:\n",
        "    print(\"b is greater than a\")\n",
        "print(a)\n",
        "print(b)"
      ]
    },
    {
      "cell_type": "code",
      "execution_count": null,
      "id": "announced-provider",
      "metadata": {
        "id": "announced-provider"
      },
      "outputs": [],
      "source": [
        "x,y =12,10 \n",
        "if(x < y): \n",
        "    st= \"x is less than y\" \n",
        "elif (x == y):\n",
        "    st= \"x is same as y\" \n",
        "else: \n",
        "    st=\"x is greater than y\" \n",
        "print(st)\n"
      ]
    },
    {
      "cell_type": "code",
      "execution_count": null,
      "id": "egyptian-harrison",
      "metadata": {
        "id": "egyptian-harrison"
      },
      "outputs": [],
      "source": [
        "list=[1,2,100, 3, 55, 4,73,5]\n",
        "for i in list:\n",
        "    print(i)\n",
        "    \n",
        "print(i)"
      ]
    },
    {
      "cell_type": "code",
      "execution_count": null,
      "id": "proud-driving",
      "metadata": {
        "id": "proud-driving"
      },
      "outputs": [],
      "source": [
        "newList = list.sort()\n",
        "print(newList)"
      ]
    },
    {
      "cell_type": "code",
      "execution_count": null,
      "id": "marked-spectrum",
      "metadata": {
        "id": "marked-spectrum"
      },
      "outputs": [],
      "source": [
        "print(list)"
      ]
    },
    {
      "cell_type": "code",
      "execution_count": null,
      "id": "aerial-zealand",
      "metadata": {
        "id": "aerial-zealand"
      },
      "outputs": [],
      "source": [
        "list1 =  sorted(list)\n",
        "print(list1)"
      ]
    },
    {
      "cell_type": "code",
      "execution_count": null,
      "id": "specialized-jaguar",
      "metadata": {
        "id": "specialized-jaguar"
      },
      "outputs": [],
      "source": [
        "while (i<10) :\n",
        "    print(i)\n",
        "    i = i+1"
      ]
    },
    {
      "cell_type": "code",
      "execution_count": null,
      "id": "sharp-german",
      "metadata": {
        "id": "sharp-german"
      },
      "outputs": [],
      "source": [
        "range(3,7)"
      ]
    },
    {
      "cell_type": "code",
      "execution_count": null,
      "id": "aboriginal-registrar",
      "metadata": {
        "id": "aboriginal-registrar"
      },
      "outputs": [],
      "source": [
        "li = range(13,7) \n",
        "li"
      ]
    },
    {
      "cell_type": "code",
      "execution_count": null,
      "id": "junior-drove",
      "metadata": {
        "id": "junior-drove"
      },
      "outputs": [],
      "source": [
        "print(li)"
      ]
    },
    {
      "cell_type": "code",
      "execution_count": null,
      "id": "circular-tourism",
      "metadata": {
        "id": "circular-tourism"
      },
      "outputs": [],
      "source": [
        "for i in range(3,17,4):\n",
        "    print(i)"
      ]
    },
    {
      "cell_type": "code",
      "execution_count": null,
      "id": "animal-philosophy",
      "metadata": {
        "id": "animal-philosophy"
      },
      "outputs": [],
      "source": [
        "for i in range(10):\n",
        "    print(i)"
      ]
    },
    {
      "cell_type": "code",
      "execution_count": null,
      "id": "reserved-offset",
      "metadata": {
        "id": "reserved-offset"
      },
      "outputs": [],
      "source": [
        "for i in range(10):\n",
        "    i=i+1\n",
        "    print(i)"
      ]
    },
    {
      "cell_type": "code",
      "execution_count": null,
      "id": "foreign-baptist",
      "metadata": {
        "id": "foreign-baptist",
        "outputId": "334f5191-2ac0-43e1-e70d-cef00defdda4"
      },
      "outputs": [
        {
          "name": "stdout",
          "output_type": "stream",
          "text": [
            "1\n",
            "2\n",
            "3\n",
            "4\n",
            "5\n",
            "6\n",
            "7\n"
          ]
        }
      ],
      "source": [
        "li = [1,2,3,4,5,6,7]\n",
        "j = 0\n",
        "for i in li:\n",
        "    print(i)"
      ]
    },
    {
      "cell_type": "code",
      "execution_count": null,
      "id": "structural-subcommittee",
      "metadata": {
        "id": "structural-subcommittee"
      },
      "outputs": [],
      "source": [
        "print(j)\n",
        "print(type(j))"
      ]
    },
    {
      "cell_type": "code",
      "execution_count": null,
      "id": "cleared-employee",
      "metadata": {
        "id": "cleared-employee",
        "outputId": "be040103-8e06-4569-bc31-5f97fabb2de3"
      },
      "outputs": [
        {
          "name": "stdout",
          "output_type": "stream",
          "text": [
            "7\n",
            "6\n",
            "5\n"
          ]
        }
      ],
      "source": [
        "length = len(li)\n",
        "while length >= 3:\n",
        "    print(length)\n",
        "    if length <= 5:\n",
        "        break\n",
        "    length = length - 1        "
      ]
    },
    {
      "cell_type": "code",
      "execution_count": null,
      "id": "leading-slovakia",
      "metadata": {
        "id": "leading-slovakia",
        "outputId": "37a6bdf6-055e-40bf-b8be-26d65b1b3619"
      },
      "outputs": [
        {
          "name": "stdout",
          "output_type": "stream",
          "text": [
            "6\n",
            "5\n",
            "4\n",
            "3\n",
            "2\n"
          ]
        }
      ],
      "source": [
        "length = len(li)\n",
        "while length >= 3:    \n",
        "    length = length - 1\n",
        "    print(length)\n",
        "    if length >= 5:\n",
        "        continue    "
      ]
    },
    {
      "cell_type": "code",
      "execution_count": null,
      "id": "capable-reynolds",
      "metadata": {
        "id": "capable-reynolds",
        "outputId": "feaa87cb-8367-40fa-957e-449af7d76c0f"
      },
      "outputs": [
        {
          "name": "stdout",
          "output_type": "stream",
          "text": [
            "6\n"
          ]
        }
      ],
      "source": [
        "length = len(li)\n",
        "while length >= 3:    \n",
        "    length = length - 1\n",
        "    print(length)\n",
        "    if length >= 5:\n",
        "        break    "
      ]
    },
    {
      "cell_type": "code",
      "execution_count": null,
      "id": "continuous-knight",
      "metadata": {
        "id": "continuous-knight"
      },
      "outputs": [],
      "source": [
        "li = [1,2,3,4,5,6,7]\n",
        "for i in li:\n",
        "    print(i)"
      ]
    },
    {
      "cell_type": "code",
      "execution_count": null,
      "id": "sunrise-paragraph",
      "metadata": {
        "id": "sunrise-paragraph",
        "outputId": "334efd1d-3ec5-4ab5-cabe-8bd34abf11fe"
      },
      "outputs": [
        {
          "name": "stdout",
          "output_type": "stream",
          "text": [
            "7\n",
            "14\n",
            "21\n",
            "28\n",
            "35\n",
            "42\n",
            "49\n",
            "49\n"
          ]
        }
      ],
      "source": [
        "li = [1,2,3,4,5,6,7]\n",
        "j = 0\n",
        "for i in li:\n",
        "    for i in li:\n",
        "        j=j+1\n",
        "    print(j)\n",
        "print(j)"
      ]
    },
    {
      "cell_type": "code",
      "execution_count": null,
      "id": "gentle-mathematics",
      "metadata": {
        "id": "gentle-mathematics",
        "outputId": "8911ea41-d5f3-45eb-fecf-dbec09e3f8ea"
      },
      "outputs": [
        {
          "name": "stdout",
          "output_type": "stream",
          "text": [
            "28\n",
            "56\n",
            "84\n",
            "112\n",
            "140\n",
            "168\n",
            "196\n",
            "196\n"
          ]
        }
      ],
      "source": [
        "li = [1,2,3,4,5,6,7]\n",
        "j = 0\n",
        "for i in li:\n",
        "    for i in li:\n",
        "        j=j+i\n",
        "    print(j)\n",
        "print(j)"
      ]
    },
    {
      "cell_type": "code",
      "execution_count": null,
      "id": "brilliant-hurricane",
      "metadata": {
        "id": "brilliant-hurricane"
      },
      "outputs": [],
      "source": [
        "x = int(input(\"x? \"))\n",
        "y = int(input(\"y? \"))\n",
        "if x < y: \n",
        "    print('x is less than y') \n",
        "elif x > y: \n",
        "    print('x is greater than y') \n",
        "else: \n",
        "    print('x and y are equal')\n"
      ]
    },
    {
      "cell_type": "code",
      "execution_count": null,
      "id": "strong-beauty",
      "metadata": {
        "id": "strong-beauty",
        "outputId": "bdca96d4-ecbb-475e-cce0-91726d45f15c"
      },
      "outputs": [
        {
          "name": "stdout",
          "output_type": "stream",
          "text": [
            "highest 74\n"
          ]
        }
      ],
      "source": [
        "highest = 0\n",
        "for value in [9, 41, 12, 3, 74, 15] :\n",
        "    if value > highest:\n",
        "        highest = value \n",
        "print('highest' , highest)"
      ]
    },
    {
      "cell_type": "code",
      "execution_count": null,
      "id": "processed-archives",
      "metadata": {
        "id": "processed-archives",
        "outputId": "428d198c-b48c-4dc8-bba7-1b803d149b51"
      },
      "outputs": [
        {
          "name": "stdout",
          "output_type": "stream",
          "text": [
            "highest 0\n"
          ]
        }
      ],
      "source": [
        "highest = 0\n",
        "for value in [9, 41, 12, 3, 74, 15] :\n",
        "    if value < highest:\n",
        "        highest = value \n",
        "print('highest' , highest)"
      ]
    },
    {
      "cell_type": "code",
      "execution_count": null,
      "id": "random-brooks",
      "metadata": {
        "id": "random-brooks"
      },
      "outputs": [],
      "source": [
        "list = [9, 41, 12, 3, 74, 15]\n",
        "print(list[4])"
      ]
    },
    {
      "cell_type": "code",
      "execution_count": null,
      "id": "needed-community",
      "metadata": {
        "id": "needed-community",
        "outputId": "6d721809-fb1f-40ce-edcd-6ab7526fcbb8"
      },
      "outputs": [
        {
          "name": "stdout",
          "output_type": "stream",
          "text": [
            "smallest 3\n"
          ]
        }
      ],
      "source": [
        "list = [9, 41, 12, 3, 74, 15]\n",
        "smallest = list[0]\n",
        "for value in list :\n",
        "    if value < smallest:\n",
        "        smallest = value        \n",
        "print('smallest' , smallest)"
      ]
    },
    {
      "cell_type": "code",
      "execution_count": null,
      "id": "accomplished-twist",
      "metadata": {
        "id": "accomplished-twist",
        "outputId": "9df84b8d-c23a-4503-b765-750657274cf6"
      },
      "outputs": [
        {
          "name": "stdout",
          "output_type": "stream",
          "text": [
            "After 1\n"
          ]
        }
      ],
      "source": [
        "smallest = None\n",
        "for value in [9, 41, 12, 3, 74, 15,103,305, 7 , 102.5, 167.44,1] : \n",
        "     if smallest is None : \n",
        "         smallest = value   \n",
        "     elif value < smallest : \n",
        "         smallest = value   \n",
        "     #print(smallest, value)\n",
        "print('After', smallest)"
      ]
    },
    {
      "cell_type": "code",
      "execution_count": null,
      "id": "premium-strategy",
      "metadata": {
        "id": "premium-strategy",
        "outputId": "e62110b7-3954-4b56-b9b4-e82a1c270db7"
      },
      "outputs": [
        {
          "data": {
            "text/plain": [
              "' '"
            ]
          },
          "execution_count": 16,
          "metadata": {},
          "output_type": "execute_result"
        }
      ],
      "source": [
        "name = \"P. Diddy\"\n",
        "name[2]"
      ]
    },
    {
      "cell_type": "code",
      "execution_count": null,
      "id": "accepting-truth",
      "metadata": {
        "id": "accepting-truth",
        "outputId": "cd416c0b-a400-4306-c68e-eff375e91010"
      },
      "outputs": [
        {
          "data": {
            "text/plain": [
              "('S', 'A')"
            ]
          },
          "execution_count": 17,
          "metadata": {},
          "output_type": "execute_result"
        }
      ],
      "source": [
        "aa='SLICEOFSPAM'\n",
        "aa[0], aa[-2]"
      ]
    },
    {
      "cell_type": "code",
      "execution_count": null,
      "id": "automotive-partner",
      "metadata": {
        "id": "automotive-partner",
        "outputId": "6e0267ac-8d7c-4395-a849-85ddf0aed8b4"
      },
      "outputs": [
        {
          "data": {
            "text/plain": [
              "('LICE', 'M')"
            ]
          },
          "execution_count": 29,
          "metadata": {},
          "output_type": "execute_result"
        }
      ],
      "source": [
        "aa[1:5] , aa[-1:] "
      ]
    },
    {
      "cell_type": "code",
      "execution_count": null,
      "id": "faced-carnival",
      "metadata": {
        "id": "faced-carnival",
        "outputId": "9afa1c43-ff5d-4fbb-9635-d001f559b255"
      },
      "outputs": [
        {
          "data": {
            "text/plain": [
              "'SCFA'"
            ]
          },
          "execution_count": 25,
          "metadata": {},
          "output_type": "execute_result"
        }
      ],
      "source": [
        "aa[::3]"
      ]
    },
    {
      "cell_type": "code",
      "execution_count": null,
      "id": "victorian-sewing",
      "metadata": {
        "id": "victorian-sewing",
        "outputId": "4fbee56d-7fde-4a7a-d7dc-8ed3ee38cb6b"
      },
      "outputs": [
        {
          "data": {
            "text/plain": [
              "('MAPSFOECILS', 'MSEL')"
            ]
          },
          "execution_count": 30,
          "metadata": {},
          "output_type": "execute_result"
        }
      ],
      "source": [
        "aa[::-1] , aa[::-3]"
      ]
    },
    {
      "cell_type": "code",
      "execution_count": null,
      "id": "occupied-event",
      "metadata": {
        "id": "occupied-event"
      },
      "outputs": [],
      "source": [
        "aa[:-1]"
      ]
    },
    {
      "cell_type": "code",
      "execution_count": null,
      "id": "mounted-brush",
      "metadata": {
        "id": "mounted-brush"
      },
      "outputs": [],
      "source": [
        "hw = 'hello world' \n",
        "hw = hw.upper(), hw.title()"
      ]
    },
    {
      "cell_type": "code",
      "execution_count": null,
      "id": "decent-northeast",
      "metadata": {
        "id": "decent-northeast",
        "outputId": "e3e0e334-f811-4032-dc86-f12fa4f150f9"
      },
      "outputs": [
        {
          "name": "stdout",
          "output_type": "stream",
          "text": [
            "('HELLO WORLD', 'Hello World')\n"
          ]
        }
      ],
      "source": [
        "print(hw)"
      ]
    },
    {
      "cell_type": "code",
      "execution_count": null,
      "id": "honest-forward",
      "metadata": {
        "id": "honest-forward",
        "outputId": "f3c2b877-5322-4e54-d315-a7b7ffa03962"
      },
      "outputs": [
        {
          "data": {
            "text/plain": [
              "tuple"
            ]
          },
          "execution_count": 33,
          "metadata": {},
          "output_type": "execute_result"
        }
      ],
      "source": [
        "type(hw)"
      ]
    },
    {
      "cell_type": "code",
      "execution_count": null,
      "id": "excess-bargain",
      "metadata": {
        "id": "excess-bargain",
        "outputId": "afedb7c9-8ef5-4133-a3b3-5f8f593262c1"
      },
      "outputs": [
        {
          "data": {
            "text/plain": [
              "(False, False)"
            ]
          },
          "execution_count": 36,
          "metadata": {},
          "output_type": "execute_result"
        }
      ],
      "source": [
        "hw = 'hello world' \n",
        "hw = hw.upper()\n",
        "hw.isdigit(), hw.islower()"
      ]
    },
    {
      "cell_type": "code",
      "execution_count": null,
      "id": "atmospheric-crest",
      "metadata": {
        "id": "atmospheric-crest",
        "outputId": "fdc1c774-1a23-4896-d870-8ebd3d516066"
      },
      "outputs": [
        {
          "name": "stdout",
          "output_type": "stream",
          "text": [
            "And me too!\n",
            "though I am much longer \n",
            "than the others :)\n",
            "And me too!\n",
            "though I am much longer\n",
            "than the others :)\n"
          ]
        }
      ],
      "source": [
        "s = '''And me too!\n",
        "though I am much longer \n",
        "than the others :)'''\n",
        "a= 'And me too!\\nthough I am much longer\\nthan the others :)'\n",
        "print(s)\n",
        "print(a)"
      ]
    },
    {
      "cell_type": "code",
      "execution_count": null,
      "id": "reliable-professional",
      "metadata": {
        "id": "reliable-professional",
        "outputId": "34637bb0-fff3-45b1-db9c-7ae8da35a471"
      },
      "outputs": [
        {
          "name": "stdout",
          "output_type": "stream",
          "text": [
            "Hello\t \"there\n",
            "How are you?\n"
          ]
        }
      ],
      "source": [
        "s = \"Hello\\t \\\"there\\nHow are you?\"\n",
        "print(s)"
      ]
    },
    {
      "cell_type": "code",
      "execution_count": null,
      "id": "coated-brief",
      "metadata": {
        "id": "coated-brief",
        "outputId": "637735a7-5451-4729-9530-fb7406142996"
      },
      "outputs": [
        {
          "data": {
            "text/plain": [
              "False"
            ]
          },
          "execution_count": 48,
          "metadata": {},
          "output_type": "execute_result"
        }
      ],
      "source": [
        "\"jell\" < \"jela\""
      ]
    },
    {
      "cell_type": "code",
      "execution_count": null,
      "id": "nearby-diameter",
      "metadata": {
        "id": "nearby-diameter"
      },
      "outputs": [],
      "source": [
        "def average(numbers):\n",
        "    total = 0\n",
        "    for num in numbers:\n",
        "        total = total + num\n",
        "    avg = total/len(numbers)\n",
        "    return avg, total\n",
        "def main():\n",
        "    prices = [29, 21, 55, 10, 12,16,190,347,1024, 9403, 125, 341942, 20394, 109236, 3470, 5732, 1293, 10039,5783]\n",
        "    result, tot = average(prices)\n",
        "    print(tot)\n",
        "    print(result)\n",
        "main()"
      ]
    },
    {
      "cell_type": "code",
      "execution_count": null,
      "id": "regular-temperature",
      "metadata": {
        "id": "regular-temperature"
      },
      "outputs": [],
      "source": [
        "# write one generic function to find the nth highest in a list\n",
        "# Assignment"
      ]
    },
    {
      "cell_type": "code",
      "execution_count": null,
      "id": "aboriginal-findings",
      "metadata": {
        "id": "aboriginal-findings"
      },
      "outputs": [],
      "source": [
        "def main():\n",
        "    prices = [29, 21, 55, 10]\n",
        "    result = average(prices)\n",
        "    print(var1)\n",
        "    print(result)\n",
        "def average(numbers):\n",
        "    total = 0\n",
        "    for num in numbers:\n",
        "        total = total + num\n",
        "    avg = total/len(numbers)\n",
        "    return avg\n",
        "var1 = 25\n",
        "main()"
      ]
    },
    {
      "cell_type": "code",
      "execution_count": null,
      "id": "received-termination",
      "metadata": {
        "id": "received-termination"
      },
      "outputs": [],
      "source": [
        "while True :\n",
        "    print('hi')"
      ]
    },
    {
      "cell_type": "code",
      "execution_count": null,
      "id": "spiritual-viking",
      "metadata": {
        "id": "spiritual-viking"
      },
      "outputs": [],
      "source": [
        "a = 10\n",
        "while a < 20 :\n",
        "    a += 1\n",
        "    if(a == 15):\n",
        "        continue    \n",
        "    print(a)\n",
        "    "
      ]
    },
    {
      "cell_type": "code",
      "execution_count": null,
      "id": "clear-justice",
      "metadata": {
        "id": "clear-justice"
      },
      "outputs": [],
      "source": [
        ""
      ]
    }
  ],
  "metadata": {
    "kernelspec": {
      "display_name": "Python 3",
      "language": "python",
      "name": "python3"
    },
    "language_info": {
      "codemirror_mode": {
        "name": "ipython",
        "version": 3
      },
      "file_extension": ".py",
      "mimetype": "text/x-python",
      "name": "python",
      "nbconvert_exporter": "python",
      "pygments_lexer": "ipython3",
      "version": "3.7.10"
    },
    "colab": {
      "name": "IF_Program.ipynb",
      "provenance": [],
      "include_colab_link": true
    }
  },
  "nbformat": 4,
  "nbformat_minor": 5
}