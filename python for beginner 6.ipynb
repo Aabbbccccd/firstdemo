{
 "cells": [
  {
   "cell_type": "markdown",
   "id": "a86b8b45",
   "metadata": {},
   "source": [
    "# Exceptions"
   ]
  },
  {
   "cell_type": "markdown",
   "id": "1b8e33da",
   "metadata": {},
   "source": [
    "## 1.Exceptions"
   ]
  },
  {
   "cell_type": "markdown",
   "id": "44e99740",
   "metadata": {},
   "source": [
    "### An exception is a kind of error that terminates the excution of program."
   ]
  },
  {
   "cell_type": "code",
   "execution_count": null,
   "id": "aac245e0",
   "metadata": {
    "scrolled": true
   },
   "outputs": [],
   "source": [
    "age = int(input(\"age : \"))"
   ]
  },
  {
   "cell_type": "markdown",
   "id": "c21df4b5",
   "metadata": {},
   "source": [
    "## 2.Handling Exceptions"
   ]
  },
  {
   "cell_type": "code",
   "execution_count": 2,
   "id": "05690c0b",
   "metadata": {},
   "outputs": [
    {
     "name": "stdout",
     "output_type": "stream",
     "text": [
      "enter the num1\n",
      "4\n",
      "enter the num2\n",
      "5\n",
      "the sum of num1 and num2 is 9\n"
     ]
    }
   ],
   "source": [
    "print(\"enter the num1\")\n",
    "num1 = int(input())\n",
    "print(\"enter the num2\")\n",
    "num2 = int(input())\n",
    "print(\"the sum of num1 and num2 is\",num1+num2)\n",
    "\n",
    "\n"
   ]
  },
  {
   "cell_type": "code",
   "execution_count": 3,
   "id": "3dabad48",
   "metadata": {
    "scrolled": true
   },
   "outputs": [
    {
     "name": "stdout",
     "output_type": "stream",
     "text": [
      "enter the num1\n",
      "2\n",
      "enter the num2\n",
      "4\n",
      "the sum of num1 and num2 is 6\n",
      "this line is important\n"
     ]
    }
   ],
   "source": [
    "print(\"enter the num1\")\n",
    "num1 = input()\n",
    "print(\"enter the num2\")\n",
    "num2 = input()\n",
    "print(\"the sum of num1 and num2 is\",int(num1)+int(num2))\n",
    "\n",
    "\n",
    "print(\"this line is important\")\n",
    "\n",
    "\n",
    "\n"
   ]
  },
  {
   "cell_type": "code",
   "execution_count": 4,
   "id": "9d8f8331",
   "metadata": {},
   "outputs": [
    {
     "name": "stdout",
     "output_type": "stream",
     "text": [
      "this line is important\n"
     ]
    }
   ],
   "source": [
    "print(\"this line is important\")\n"
   ]
  },
  {
   "cell_type": "code",
   "execution_count": 5,
   "id": "d95faebb",
   "metadata": {},
   "outputs": [
    {
     "name": "stdout",
     "output_type": "stream",
     "text": [
      "enter the num1\n",
      "3\n",
      "enter the num2\n",
      "5\n",
      "the sum of num1 and num2 is 8\n",
      "this line is very important\n"
     ]
    }
   ],
   "source": [
    "print(\"enter the num1\")\n",
    "num1 = input()\n",
    "print(\"enter the num2\")\n",
    "num2 = input()\n",
    "\n",
    "try:\n",
    "    print(\"the sum of num1 and num2 is\",int(num1)+int(num2))\n",
    "    \n",
    "except Exception as error:\n",
    "    print(error)\n",
    "    \n",
    "print(\"this line is very important\")\n",
    "    "
   ]
  },
  {
   "cell_type": "code",
   "execution_count": 6,
   "id": "53ff3a2d",
   "metadata": {},
   "outputs": [
    {
     "name": "stdout",
     "output_type": "stream",
     "text": [
      "age: 12\n",
      "no exception were thrown\n",
      "this line is very important\n"
     ]
    }
   ],
   "source": [
    "try:\n",
    "    age = int(input(\"age: \"))\n",
    "except Exception as error:\n",
    "    print(\"Error--\",error)\n",
    "    print(\"u did not enter a valid age\")\n",
    "else:\n",
    "    print(\"no exception were thrown\")\n",
    "    \n",
    "    \n",
    "print(\"this line is very important\")\n",
    "    "
   ]
  },
  {
   "cell_type": "code",
   "execution_count": 7,
   "id": "bbee6b9b",
   "metadata": {},
   "outputs": [
    {
     "name": "stdout",
     "output_type": "stream",
     "text": [
      "age: 12\n",
      "no exception were thrown\n",
      "this line is very important\n"
     ]
    }
   ],
   "source": [
    "try:\n",
    "    age = int(input(\"age: \"))\n",
    "except Exception as error:\n",
    "    print(\"error:-\",error)\n",
    "else:\n",
    "    print(\"no exception were thrown\")\n",
    "    \n",
    "    \n",
    "print(\"this line is very important\")"
   ]
  },
  {
   "cell_type": "markdown",
   "id": "5c316b35",
   "metadata": {},
   "source": [
    "## 3.Cleaning Up"
   ]
  },
  {
   "cell_type": "code",
   "execution_count": 8,
   "id": "cb038d4c",
   "metadata": {},
   "outputs": [
    {
     "name": "stdout",
     "output_type": "stream",
     "text": [
      "age: 18\n",
      "no exception were thrown\n"
     ]
    }
   ],
   "source": [
    "try:\n",
    "    file = open(\"python for beginner 6.ipynb\")\n",
    "    age = int(input(\"age: \"))\n",
    "except Exception as error:\n",
    "    print(\"error:-\",error)\n",
    "else:\n",
    "    print(\"no exception were thrown\")\n",
    "    \n",
    "finally:\n",
    "    file.close()"
   ]
  },
  {
   "cell_type": "markdown",
   "id": "c418ad44",
   "metadata": {},
   "source": []
  },
  {
   "cell_type": "code",
   "execution_count": null,
   "id": "90e8aeee",
   "metadata": {},
   "outputs": [],
   "source": []
  }
 ],
 "metadata": {
  "kernelspec": {
   "display_name": "Python 3 (ipykernel)",
   "language": "python",
   "name": "python3"
  },
  "language_info": {
   "codemirror_mode": {
    "name": "ipython",
    "version": 3
   },
   "file_extension": ".py",
   "mimetype": "text/x-python",
   "name": "python",
   "nbconvert_exporter": "python",
   "pygments_lexer": "ipython3",
   "version": "3.9.7"
  }
 },
 "nbformat": 4,
 "nbformat_minor": 5
}
